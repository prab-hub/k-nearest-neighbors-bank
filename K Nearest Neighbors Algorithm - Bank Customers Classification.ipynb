{
 "cells": [
  {
   "cell_type": "markdown",
   "id": "e0e07e77",
   "metadata": {},
   "source": [
    "# Using K-Nearest Neighbors classifier to classify bank customers.\n",
    "\n",
    "We will build and train a K-Nearest Neighbors classifier algorithm using scikit-learn to classify whether bank customers will buy term deposit or not. "
   ]
  },
  {
   "cell_type": "markdown",
   "id": "aa813888",
   "metadata": {},
   "source": [
    "# Exploring the Data\n",
    "\n",
    "We will first read the data of bank customers. "
   ]
  },
  {
   "cell_type": "code",
   "execution_count": 1,
   "id": "cd99f211",
   "metadata": {
    "scrolled": true
   },
   "outputs": [
    {
     "data": {
      "text/html": [
       "<div>\n",
       "<style scoped>\n",
       "    .dataframe tbody tr th:only-of-type {\n",
       "        vertical-align: middle;\n",
       "    }\n",
       "\n",
       "    .dataframe tbody tr th {\n",
       "        vertical-align: top;\n",
       "    }\n",
       "\n",
       "    .dataframe thead th {\n",
       "        text-align: right;\n",
       "    }\n",
       "</style>\n",
       "<table border=\"1\" class=\"dataframe\">\n",
       "  <thead>\n",
       "    <tr style=\"text-align: right;\">\n",
       "      <th></th>\n",
       "      <th>age</th>\n",
       "      <th>job</th>\n",
       "      <th>marital</th>\n",
       "      <th>education</th>\n",
       "      <th>default</th>\n",
       "      <th>housing</th>\n",
       "      <th>loan</th>\n",
       "      <th>contact</th>\n",
       "      <th>month</th>\n",
       "      <th>day_of_week</th>\n",
       "      <th>...</th>\n",
       "      <th>campaign</th>\n",
       "      <th>pdays</th>\n",
       "      <th>previous</th>\n",
       "      <th>poutcome</th>\n",
       "      <th>emp.var.rate</th>\n",
       "      <th>cons.price.idx</th>\n",
       "      <th>cons.conf.idx</th>\n",
       "      <th>euribor3m</th>\n",
       "      <th>nr.employed</th>\n",
       "      <th>y</th>\n",
       "    </tr>\n",
       "  </thead>\n",
       "  <tbody>\n",
       "    <tr>\n",
       "      <th>0</th>\n",
       "      <td>56</td>\n",
       "      <td>housemaid</td>\n",
       "      <td>married</td>\n",
       "      <td>basic.4y</td>\n",
       "      <td>no</td>\n",
       "      <td>no</td>\n",
       "      <td>no</td>\n",
       "      <td>telephone</td>\n",
       "      <td>may</td>\n",
       "      <td>mon</td>\n",
       "      <td>...</td>\n",
       "      <td>1</td>\n",
       "      <td>999</td>\n",
       "      <td>0</td>\n",
       "      <td>nonexistent</td>\n",
       "      <td>1.1</td>\n",
       "      <td>93.994</td>\n",
       "      <td>-36.4</td>\n",
       "      <td>4.857</td>\n",
       "      <td>5191.0</td>\n",
       "      <td>no</td>\n",
       "    </tr>\n",
       "    <tr>\n",
       "      <th>1</th>\n",
       "      <td>57</td>\n",
       "      <td>services</td>\n",
       "      <td>married</td>\n",
       "      <td>high.school</td>\n",
       "      <td>unknown</td>\n",
       "      <td>no</td>\n",
       "      <td>no</td>\n",
       "      <td>telephone</td>\n",
       "      <td>may</td>\n",
       "      <td>mon</td>\n",
       "      <td>...</td>\n",
       "      <td>1</td>\n",
       "      <td>999</td>\n",
       "      <td>0</td>\n",
       "      <td>nonexistent</td>\n",
       "      <td>1.1</td>\n",
       "      <td>93.994</td>\n",
       "      <td>-36.4</td>\n",
       "      <td>4.857</td>\n",
       "      <td>5191.0</td>\n",
       "      <td>no</td>\n",
       "    </tr>\n",
       "    <tr>\n",
       "      <th>2</th>\n",
       "      <td>37</td>\n",
       "      <td>services</td>\n",
       "      <td>married</td>\n",
       "      <td>high.school</td>\n",
       "      <td>no</td>\n",
       "      <td>yes</td>\n",
       "      <td>no</td>\n",
       "      <td>telephone</td>\n",
       "      <td>may</td>\n",
       "      <td>mon</td>\n",
       "      <td>...</td>\n",
       "      <td>1</td>\n",
       "      <td>999</td>\n",
       "      <td>0</td>\n",
       "      <td>nonexistent</td>\n",
       "      <td>1.1</td>\n",
       "      <td>93.994</td>\n",
       "      <td>-36.4</td>\n",
       "      <td>4.857</td>\n",
       "      <td>5191.0</td>\n",
       "      <td>no</td>\n",
       "    </tr>\n",
       "    <tr>\n",
       "      <th>3</th>\n",
       "      <td>40</td>\n",
       "      <td>admin.</td>\n",
       "      <td>married</td>\n",
       "      <td>basic.6y</td>\n",
       "      <td>no</td>\n",
       "      <td>no</td>\n",
       "      <td>no</td>\n",
       "      <td>telephone</td>\n",
       "      <td>may</td>\n",
       "      <td>mon</td>\n",
       "      <td>...</td>\n",
       "      <td>1</td>\n",
       "      <td>999</td>\n",
       "      <td>0</td>\n",
       "      <td>nonexistent</td>\n",
       "      <td>1.1</td>\n",
       "      <td>93.994</td>\n",
       "      <td>-36.4</td>\n",
       "      <td>4.857</td>\n",
       "      <td>5191.0</td>\n",
       "      <td>no</td>\n",
       "    </tr>\n",
       "    <tr>\n",
       "      <th>4</th>\n",
       "      <td>56</td>\n",
       "      <td>services</td>\n",
       "      <td>married</td>\n",
       "      <td>high.school</td>\n",
       "      <td>no</td>\n",
       "      <td>no</td>\n",
       "      <td>yes</td>\n",
       "      <td>telephone</td>\n",
       "      <td>may</td>\n",
       "      <td>mon</td>\n",
       "      <td>...</td>\n",
       "      <td>1</td>\n",
       "      <td>999</td>\n",
       "      <td>0</td>\n",
       "      <td>nonexistent</td>\n",
       "      <td>1.1</td>\n",
       "      <td>93.994</td>\n",
       "      <td>-36.4</td>\n",
       "      <td>4.857</td>\n",
       "      <td>5191.0</td>\n",
       "      <td>no</td>\n",
       "    </tr>\n",
       "  </tbody>\n",
       "</table>\n",
       "<p>5 rows × 21 columns</p>\n",
       "</div>"
      ],
      "text/plain": [
       "   age        job  marital    education  default housing loan    contact  \\\n",
       "0   56  housemaid  married     basic.4y       no      no   no  telephone   \n",
       "1   57   services  married  high.school  unknown      no   no  telephone   \n",
       "2   37   services  married  high.school       no     yes   no  telephone   \n",
       "3   40     admin.  married     basic.6y       no      no   no  telephone   \n",
       "4   56   services  married  high.school       no      no  yes  telephone   \n",
       "\n",
       "  month day_of_week  ...  campaign  pdays  previous     poutcome emp.var.rate  \\\n",
       "0   may         mon  ...         1    999         0  nonexistent          1.1   \n",
       "1   may         mon  ...         1    999         0  nonexistent          1.1   \n",
       "2   may         mon  ...         1    999         0  nonexistent          1.1   \n",
       "3   may         mon  ...         1    999         0  nonexistent          1.1   \n",
       "4   may         mon  ...         1    999         0  nonexistent          1.1   \n",
       "\n",
       "   cons.price.idx  cons.conf.idx  euribor3m  nr.employed   y  \n",
       "0          93.994          -36.4      4.857       5191.0  no  \n",
       "1          93.994          -36.4      4.857       5191.0  no  \n",
       "2          93.994          -36.4      4.857       5191.0  no  \n",
       "3          93.994          -36.4      4.857       5191.0  no  \n",
       "4          93.994          -36.4      4.857       5191.0  no  \n",
       "\n",
       "[5 rows x 21 columns]"
      ]
     },
     "execution_count": 1,
     "metadata": {},
     "output_type": "execute_result"
    }
   ],
   "source": [
    "import pandas as pd\n",
    "banking_df = pd.read_csv(\"C:/Users/Linus/Documents/Sheets/bank/bank-additional/bank-additional-full.csv\", sep=\";\")\n",
    "banking_df.head()"
   ]
  },
  {
   "cell_type": "markdown",
   "id": "5d6923cb",
   "metadata": {},
   "source": [
    "We can see that each customer has 20 features and 1 target variable. But since target variable is categorical, we will turn it into numerical for easier evaluation."
   ]
  },
  {
   "cell_type": "code",
   "execution_count": 2,
   "id": "669aa7ab",
   "metadata": {},
   "outputs": [],
   "source": [
    "banking_df[\"y\"] = banking_df[\"y\"].apply(lambda x:1 if x==\"yes\" else 0)\n",
    "banking_df = pd.get_dummies(data = banking_df, drop_first = True)"
   ]
  },
  {
   "cell_type": "markdown",
   "id": "3d545b16",
   "metadata": {},
   "source": [
    "# Feature Selection\n",
    "\n",
    "Not all features in a dataset might be relevant to a model's performance. Identifying and removing such features in the data preparation step, before training a model, can not only boost its performance, but also reduce the computational cost. The latter is especially important when we have to work with large datasets and complex machine learning models.\n",
    "\n",
    "We'll calculate the Pearson Correlation Coefficient on our columns to identify which features are strongly correlated to the target variable."
   ]
  },
  {
   "cell_type": "code",
   "execution_count": 3,
   "id": "187282d0",
   "metadata": {},
   "outputs": [],
   "source": [
    "correlations = abs(banking_df.corr())"
   ]
  },
  {
   "cell_type": "code",
   "execution_count": 4,
   "id": "2d03fef5",
   "metadata": {
    "scrolled": true
   },
   "outputs": [
    {
     "name": "stdout",
     "output_type": "stream",
     "text": [
      "duration            0.405274\n",
      "nr.employed         0.354678\n",
      "pdays               0.324914\n",
      "poutcome_success    0.316269\n",
      "euribor3m           0.307771\n",
      "Name: y, dtype: float64\n"
     ]
    }
   ],
   "source": [
    "top_5_features = correlations[\"y\"].sort_values(ascending=False)[1:6].index\n",
    "print(correlations[\"y\"].sort_values(ascending=False)[1:6])"
   ]
  },
  {
   "cell_type": "markdown",
   "id": "c50e5a77",
   "metadata": {},
   "source": [
    "We can see that `duration` is corrlated to target variable more than any other feature. So we will use these 5 features for further evaluation."
   ]
  },
  {
   "cell_type": "markdown",
   "id": "6ffb0f98",
   "metadata": {},
   "source": [
    "# Training, Validation and Test sets\n",
    "\n",
    "We will divide dataset into training values, validation values and test values using `train_test_split` function from `sklearn.model_selection`. Then scale the data using `MinMaxScaler`. "
   ]
  },
  {
   "cell_type": "code",
   "execution_count": 5,
   "id": "16d1cbc1",
   "metadata": {},
   "outputs": [],
   "source": [
    "X = banking_df.drop(\"y\", axis=1)\n",
    "y = banking_df[\"y\"]"
   ]
  },
  {
   "cell_type": "code",
   "execution_count": 6,
   "id": "919c4b3e",
   "metadata": {},
   "outputs": [],
   "source": [
    "from sklearn.model_selection import train_test_split\n",
    "from sklearn.preprocessing import MinMaxScaler\n",
    "\n",
    "X_train, X_val, y_train, y_val = train_test_split(X[top_5_features], y, test_size=0.20, \n",
    "                                                  random_state = 417)\n",
    "X_train, X_test, y_train, y_test = train_test_split(X_train, y_train, \n",
    "                                                    test_size=0.20*X.shape[0]/X_train.shape[0], \n",
    "                                                    random_state = 417)\n",
    "\n",
    "scaler = MinMaxScaler()\n",
    "X_train_scaled = scaler.fit_transform(X_train)"
   ]
  },
  {
   "cell_type": "markdown",
   "id": "6a4d5078",
   "metadata": {},
   "source": [
    "# Training and Evaluating the Model\n",
    "\n",
    "Once we have scaled our different sets, we can call `KNeighborsClassifier` to classify and then calculate accuracy of the model. "
   ]
  },
  {
   "cell_type": "code",
   "execution_count": 7,
   "id": "eaec6780",
   "metadata": {},
   "outputs": [
    {
     "name": "stdout",
     "output_type": "stream",
     "text": [
      "{1: 0.8962126729788784, 2: 0.9062879339645545, 3: 0.9072590434571498, 4: 0.9089584850691915, 5: 0.909686817188638}\n"
     ]
    }
   ],
   "source": [
    "from sklearn.neighbors import KNeighborsClassifier\n",
    "\n",
    "num_neighbors = [num for num in range(1, 6)]\n",
    "X_val_scaled = scaler.transform(X_val)\n",
    "\n",
    "accuracies = {}\n",
    "\n",
    "for neighbors in num_neighbors:\n",
    "    knn = KNeighborsClassifier(n_neighbors = neighbors)\n",
    "    knn.fit(X_train_scaled, y_train)\n",
    "    val_accuracy = knn.score(X_val_scaled, y_val)\n",
    "    accuracies[neighbors] = val_accuracy\n",
    "    \n",
    "print(accuracies)"
   ]
  },
  {
   "cell_type": "markdown",
   "id": "52d65df9",
   "metadata": {},
   "source": [
    "# Hyperparameter Optimization\n",
    "\n",
    "We can use hyperparameter `weights` in `KNeighborsClassifier` to weigh points in each neighborhood by the inverse of their distance and set power paramter to 5. Then calculate accuracies again. \n"
   ]
  },
  {
   "cell_type": "code",
   "execution_count": 8,
   "id": "2980a707",
   "metadata": {
    "scrolled": false
   },
   "outputs": [
    {
     "name": "stdout",
     "output_type": "stream",
     "text": [
      "{1: 0.8970623937848993, 2: 0.898154891964069, 3: 0.9032532168001942, 4: 0.9039815489196407, 5: 0.906409322651129}\n"
     ]
    }
   ],
   "source": [
    "for neighbors in num_neighbors:\n",
    "    knn = KNeighborsClassifier(n_neighbors = neighbors, weights = \"distance\", p=5)\n",
    "    knn.fit(X_train_scaled, y_train)\n",
    "    val_accuracy = knn.score(X_val_scaled, y_val)\n",
    "    accuracies[neighbors] = val_accuracy\n",
    "    \n",
    "print(accuracies)"
   ]
  },
  {
   "cell_type": "markdown",
   "id": "a0e2d7f3",
   "metadata": {},
   "source": [
    "Mdifying two more hyperparameters improved our model's performance corresponding to some of the \n",
    "`Ks`, but the rest worsened. Not every attempt will result in improvement.\n",
    "\n",
    "We can't always try every possible permutation and combination. Depending on the size of the dataset, the number of hyperparameters, and the range of values they could take, it would be computationally expensive.\n",
    "\n",
    "We can try out a smaller subset of values. A commonly used approach that can help us find the optimal hyperparameter values is called grid search.\n",
    "\n",
    "# Grid Search\n",
    "\n",
    "`GridSearchCV` allows us to input a dictionary of hyperparameters and the values we want to search. Additionally, `GridSearchCV` automatically evaluates the different models on validation sets it creates from the training data. It simplifies our workflow in that regard."
   ]
  },
  {
   "cell_type": "code",
   "execution_count": 9,
   "id": "dd7eafdb",
   "metadata": {},
   "outputs": [
    {
     "name": "stdout",
     "output_type": "stream",
     "text": [
      "Best Model's Accuracy: 90.92\n",
      "Besy Model's Parameters: {'metric': 'minkowski', 'n_neighbors': 9}\n"
     ]
    }
   ],
   "source": [
    "from sklearn.model_selection import GridSearchCV\n",
    "\n",
    "grid_params = {\"n_neighbors\": range(1, 10),\n",
    "                \"metric\": [\"minkowski\", \"manhattan\"]\n",
    "              }\n",
    "\n",
    "knn = KNeighborsClassifier()\n",
    "knn_grid = GridSearchCV(knn, grid_params, scoring='accuracy')\n",
    "knn_grid.fit(X_train_scaled, y_train)\n",
    "\n",
    "best_score = knn_grid.best_score_\n",
    "best_params = knn_grid.best_params_\n",
    "\n",
    "print(f\"Best Model's Accuracy: {best_score*100:.2f}\")\n",
    "print(f\"Besy Model's Parameters: {best_params}\")"
   ]
  },
  {
   "cell_type": "markdown",
   "id": "4b6a84d9",
   "metadata": {},
   "source": [
    "# Evaluating the Model on Test Set\n",
    "\n",
    "Because of the grid search technique and the features we selected earlier, we were able to obtain a model that has an accuracy of `~90.92%`.\n",
    "\n",
    "The following hyperparameters and values:\n",
    "* `metric = \"minkowski\"`\n",
    "* `n_neighbors: 9`\n",
    "\n",
    "We can now use this model and evaluate it on the test set. \n",
    "\n",
    "Scikit-learn again makes this simple for us to do:\n",
    "\n",
    "* We can obtain our best model, known as an **estimator**, from `GridSearchCV`.\n",
    "* We can evaluate the test set by calculating the accuracy score using the best estimator ."
   ]
  },
  {
   "cell_type": "code",
   "execution_count": 10,
   "id": "c96f6bb7",
   "metadata": {},
   "outputs": [
    {
     "name": "stdout",
     "output_type": "stream",
     "text": [
      "Model Accuracy on Test Set: 91.14\n"
     ]
    }
   ],
   "source": [
    "X_test_scaled = scaler.transform(X_test)\n",
    "accuracy = knn_grid.best_estimator_.score(X_test_scaled, y_test)\n",
    "print(f\"Model Accuracy on Test Set: {accuracy*100:.2f}\")"
   ]
  },
  {
   "cell_type": "markdown",
   "id": "cf142583",
   "metadata": {},
   "source": [
    "Model accuracy of our algorithm is `91.14%`"
   ]
  }
 ],
 "metadata": {
  "kernelspec": {
   "display_name": "Python 3 (ipykernel)",
   "language": "python",
   "name": "python3"
  },
  "language_info": {
   "codemirror_mode": {
    "name": "ipython",
    "version": 3
   },
   "file_extension": ".py",
   "mimetype": "text/x-python",
   "name": "python",
   "nbconvert_exporter": "python",
   "pygments_lexer": "ipython3",
   "version": "3.10.9"
  }
 },
 "nbformat": 4,
 "nbformat_minor": 5
}
